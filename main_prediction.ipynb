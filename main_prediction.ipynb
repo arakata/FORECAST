{
 "cells": [
  {
   "cell_type": "markdown",
   "metadata": {
    "collapsed": true
   },
   "source": [
    "# Football Forecasting\n",
    "\n",
    "Football is ubiquitous.The main objective of this project is to forecast football outcomes.... more flavor. \n",
    "\n",
    "We recreate the proposals of [Google](https://github.com/GoogleCloudPlatform/ipython-soccer-predictions) and [Goldman Sachs](http://www.goldmansachs.com/our-thinking/macroeconomic-insights/euro-cup-2016/) to tackle this task. We implemented both algortihms to predict the results of Comebol qualifiers and estimate the probability that Peru qualifies to the World Cup. Then, we propose a different approach in order to improve the accuaracy of the model. \n",
    "\n",
    "\n",
    "## Data\n",
    "The database contains information at match level from seasons 2011/12, 2012/13 and 2013/14 for three leagues and the 2014 World Cup. The leagues included are:\n",
    "* MLS (USA)\n",
    "* Premier League (England)\n",
    "* La Liga (Spain)\n",
    " \n",
    "Attributes used for prediction consider the average of the last six games of each team (home and away)."
   ]
  },
  {
   "cell_type": "code",
   "execution_count": 3,
   "metadata": {},
   "outputs": [
    {
     "name": "stdout",
     "output_type": "stream",
     "text": [
      "Goals and points:\npoints  lose  tie  win\ngoals                 \n0        727  267    0\n1        477  394  320\n2        131  205  500\n3         21   40  314\n4          2    6  148\n5          0    2   65\n6          0    0   12\n7          0    0    6\n8          0    0    1\n\nPoints frequency:\nwin     1366\nlose    1358\ntie      914\nName: points, dtype: int64\n\nGoals frequency:\n1    1191\n0     994\n2     836\n3     375\n4     156\n5      67\n6      12\n7       6\n8       1\nName: goals, dtype: int64\n"
     ]
    }
   ],
   "source": [
    "import pandas as pd\n",
    "import numpy as np\n",
    "import math\n",
    "import time\n",
    "import pylab as pl\n",
    "import matplotlib.pyplot as plt\n",
    "from scipy import stats\n",
    "stats.chisqprob = lambda chisq, df: stats.chi2.sf(chisq, df)\n",
    "\n",
    "import code.wc_pred.world_cup as world_cup\n",
    "import code.wc_pred.match_stats as match_stats\n",
    "import code.wc_pred.power as power\n",
    "import code.wc_pred.odds as odds\n",
    "import code.algorithms.config as config\n",
    "\n",
    "# Import main dataset\n",
    "parser2 = lambda date: pd.datetime.strptime(date, '%Y-%m-%d %H:%M:%f')\n",
    "raw_data = pd.read_csv('./data/raw_data_ready.csv', index_col=0, header=0, \n",
    "                       parse_dates=['timestamp'], date_parser=parser2, \n",
    "                       encoding='utf-8')\n",
    "\n",
    "# Import Comebol dataset\n",
    "test_peru = pd.read_csv('./data/comebol_complete.csv', index_col=0, header=0)\n",
    "\n",
    "# Partition the main dataset and the club data. We're only going to \n",
    "# train our model using club data.\n",
    "club_data = raw_data.loc[raw_data['competitionid'] != 4]\n",
    "\n",
    "    \n",
    "# Generate a table with goals and points using club data.\n",
    "points = club_data.replace({'points': {0: 'lose', 1: 'tie', 3: 'win'}})['points']\n",
    "goals_points = pd.crosstab(club_data['goals'], points)\n",
    "\n",
    "print('Goals and points:\\n{0}'.format(goals_points))\n",
    "print('\\nPoints frequency:\\n{0}'.format(points.value_counts()))\n",
    "print('\\nGoals frequency:\\n{0}'.format(club_data['goals'].value_counts()))\n"
   ]
  },
  {
   "cell_type": "code",
   "execution_count": null,
   "metadata": {},
   "outputs": [],
   "source": [
    ""
   ]
  }
 ],
 "metadata": {
  "kernelspec": {
   "display_name": "Python 2",
   "language": "python",
   "name": "python2"
  },
  "language_info": {
   "codemirror_mode": {
    "name": "ipython",
    "version": 2
   },
   "file_extension": ".py",
   "mimetype": "text/x-python",
   "name": "python",
   "nbconvert_exporter": "python",
   "pygments_lexer": "ipython2",
   "version": "2.7.6"
  }
 },
 "nbformat": 4,
 "nbformat_minor": 0
}
